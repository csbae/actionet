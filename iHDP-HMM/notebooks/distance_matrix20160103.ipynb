{
 "cells": [
  {
   "cell_type": "markdown",
   "metadata": {},
   "source": [
    "# Demo for Semantic Trajectory Analysis Algorithm"
   ]
  },
  {
   "cell_type": "markdown",
   "metadata": {},
   "source": [
    "#### List the files in the \"data\"directory to make sure that all the required files exist"
   ]
  },
  {
   "cell_type": "code",
   "execution_count": 1,
   "metadata": {
    "collapsed": false
   },
   "outputs": [
    {
     "name": "stdout",
     "output_type": "stream",
     "text": [
      "total 714076\r\n",
      "drwxrwxr-x 2 hmm hmm      4096 Jan 23  2016 \u001b[0m\u001b[01;34m.\u001b[0m/\r\n",
      "drwxrwxr-x 5 hmm hmm      4096 Jan 23  2016 \u001b[01;34m..\u001b[0m/\r\n",
      "-rw-rw-r-- 1 hmm hmm 107054346 Dec 30  2015 mit_trj_parkinglot_all.csv\r\n",
      "-rw-rw-r-- 1 hmm hmm    380886 Jan  2  2016 mit_trj_parkinglot_all_hilbert100.csv\r\n",
      "-rw-rw-r-- 1 hmm hmm 135459113 Dec 31  2015 mit_trj_parkinglot_all_hilbert.csv\r\n",
      "-rw-rw-r-- 1 hmm hmm 226392785 Dec 30  2015 mit_trj_parkinglot_all.json\r\n",
      "-rw-rw-r-- 1 hmm hmm    252362 Aug  9  2015 \u001b[01;35mparkinglot.png\u001b[0m\r\n",
      "-rw-rw-r-- 1 hmm hmm  22128957 Feb 17  2016 trip_as_vec.model\r\n",
      "-rw-rw-r-- 1 hmm hmm  48543680 Feb 17  2016 trip_as_vec.model.docvecs.doctag_syn0.npy\r\n",
      "-rw-rw-r-- 1 hmm hmm  95480480 Feb 17  2016 trip_as_vec.model.syn0.npy\r\n",
      "-rw-rw-r-- 1 hmm hmm  95480480 Feb 17  2016 trip_as_vec.model.syn1.npy\r\n"
     ]
    }
   ],
   "source": [
    "ls -al ../data"
   ]
  },
  {
   "cell_type": "markdown",
   "metadata": {},
   "source": [
    "#### Import \"pandas\" library, which is for I/O"
   ]
  },
  {
   "cell_type": "code",
   "execution_count": 2,
   "metadata": {
    "collapsed": true
   },
   "outputs": [],
   "source": [
    "import pandas as pd"
   ]
  },
  {
   "cell_type": "markdown",
   "metadata": {},
   "source": [
    "#### Using pandas to read structured raw data with hilbert indexing"
   ]
  },
  {
   "cell_type": "code",
   "execution_count": 3,
   "metadata": {
    "collapsed": false
   },
   "outputs": [],
   "source": [
    "df = pd.read_csv('../data/mit_trj_parkinglot_all_hilbert.csv')"
   ]
  },
  {
   "cell_type": "markdown",
   "metadata": {},
   "source": [
    "#### Group data by doc_id (i.e. trajectory ID)"
   ]
  },
  {
   "cell_type": "code",
   "execution_count": 4,
   "metadata": {
    "collapsed": false
   },
   "outputs": [],
   "source": [
    "dfgs = df.groupby('doc_id')"
   ]
  },
  {
   "cell_type": "markdown",
   "metadata": {},
   "source": [
    "#### First 5 rows will be like: "
   ]
  },
  {
   "cell_type": "code",
   "execution_count": 5,
   "metadata": {
    "collapsed": false
   },
   "outputs": [
    {
     "data": {
      "text/html": [
       "<div>\n",
       "<table border=\"1\" class=\"dataframe\">\n",
       "  <thead>\n",
       "    <tr style=\"text-align: right;\">\n",
       "      <th></th>\n",
       "      <th>t</th>\n",
       "      <th>x</th>\n",
       "      <th>y</th>\n",
       "      <th>doc_id</th>\n",
       "      <th>hilbert_idx</th>\n",
       "    </tr>\n",
       "  </thead>\n",
       "  <tbody>\n",
       "    <tr>\n",
       "      <th>0</th>\n",
       "      <td>11</td>\n",
       "      <td>315</td>\n",
       "      <td>146</td>\n",
       "      <td>md_0</td>\n",
       "      <td>124105</td>\n",
       "    </tr>\n",
       "    <tr>\n",
       "      <th>1</th>\n",
       "      <td>21</td>\n",
       "      <td>327</td>\n",
       "      <td>143</td>\n",
       "      <td>md_0</td>\n",
       "      <td>121578</td>\n",
       "    </tr>\n",
       "    <tr>\n",
       "      <th>2</th>\n",
       "      <td>26</td>\n",
       "      <td>333</td>\n",
       "      <td>145</td>\n",
       "      <td>md_0</td>\n",
       "      <td>121682</td>\n",
       "    </tr>\n",
       "    <tr>\n",
       "      <th>3</th>\n",
       "      <td>27</td>\n",
       "      <td>334</td>\n",
       "      <td>145</td>\n",
       "      <td>md_0</td>\n",
       "      <td>121687</td>\n",
       "    </tr>\n",
       "    <tr>\n",
       "      <th>4</th>\n",
       "      <td>31</td>\n",
       "      <td>339</td>\n",
       "      <td>146</td>\n",
       "      <td>md_0</td>\n",
       "      <td>120993</td>\n",
       "    </tr>\n",
       "  </tbody>\n",
       "</table>\n",
       "</div>"
      ],
      "text/plain": [
       "    t    x    y doc_id  hilbert_idx\n",
       "0  11  315  146   md_0       124105\n",
       "1  21  327  143   md_0       121578\n",
       "2  26  333  145   md_0       121682\n",
       "3  27  334  145   md_0       121687\n",
       "4  31  339  146   md_0       120993"
      ]
     },
     "execution_count": 5,
     "metadata": {},
     "output_type": "execute_result"
    }
   ],
   "source": [
    "df.head()"
   ]
  },
  {
   "cell_type": "markdown",
   "metadata": {},
   "source": [
    "#### All column names:  "
   ]
  },
  {
   "cell_type": "code",
   "execution_count": 6,
   "metadata": {
    "collapsed": false
   },
   "outputs": [
    {
     "data": {
      "text/plain": [
       "Index([u't', u'x', u'y', u'doc_id', u'hilbert_idx'], dtype='object')"
      ]
     },
     "execution_count": 6,
     "metadata": {},
     "output_type": "execute_result"
    }
   ],
   "source": [
    "df.columns"
   ]
  },
  {
   "cell_type": "markdown",
   "metadata": {},
   "source": [
    "#### Trip point index as a document:"
   ]
  },
  {
   "cell_type": "code",
   "execution_count": 7,
   "metadata": {
    "collapsed": false
   },
   "outputs": [
    {
     "data": {
      "text/plain": [
       "['md_27345', 'md_34904']"
      ]
     },
     "execution_count": 7,
     "metadata": {},
     "output_type": "execute_result"
    }
   ],
   "source": [
    "list(dfgs.groups.keys())[:2]"
   ]
  },
  {
   "cell_type": "code",
   "execution_count": 8,
   "metadata": {
    "collapsed": true
   },
   "outputs": [],
   "source": [
    "tmp = df.ix[dfgs.groups['md_27345']]['hilbert_idx']"
   ]
  },
  {
   "cell_type": "markdown",
   "metadata": {},
   "source": [
    "#### Index of a trip: "
   ]
  },
  {
   "cell_type": "code",
   "execution_count": 9,
   "metadata": {
    "collapsed": false
   },
   "outputs": [
    {
     "data": {
      "text/plain": [
       "array([121259, 121255, 121250, 121254, 121250, 121255, 121251, 121247,\n",
       "       121243, 121244, 121226, 121225, 121229, 121228, 121229, 121218,\n",
       "       121216, 121301, 121215, 121130, 121214, 121215, 121129, 121128,\n",
       "       121105, 121073, 121072, 120591, 120595, 120594, 120595, 120599,\n",
       "       120598, 120809, 120808, 120807, 120802, 120801, 120800, 120821,\n",
       "       120822])"
      ]
     },
     "execution_count": 9,
     "metadata": {},
     "output_type": "execute_result"
    }
   ],
   "source": [
    "tmp.values"
   ]
  },
  {
   "cell_type": "code",
   "execution_count": null,
   "metadata": {
    "collapsed": false
   },
   "outputs": [],
   "source": []
  },
  {
   "cell_type": "markdown",
   "metadata": {},
   "source": [
    "#### Import \"gensim\" library for document vector"
   ]
  },
  {
   "cell_type": "code",
   "execution_count": 10,
   "metadata": {
    "collapsed": false
   },
   "outputs": [],
   "source": [
    "from gensim.models import Doc2Vec\n",
    "from gensim.models.doc2vec import LabeledSentence"
   ]
  },
  {
   "cell_type": "markdown",
   "metadata": {},
   "source": [
    "#### Generate labelled sentences (1. labelled 2. only contain clean words)"
   ]
  },
  {
   "cell_type": "code",
   "execution_count": 11,
   "metadata": {
    "collapsed": false
   },
   "outputs": [],
   "source": [
    "sentences = []\n",
    "for k in dfgs.groups.keys():\n",
    "    tmp = df.ix[dfgs.groups[k]]['hilbert_idx']\n",
    "    sentences.append(LabeledSentence(words=[str(i) for i in tmp], tags=[k]))"
   ]
  },
  {
   "cell_type": "markdown",
   "metadata": {},
   "source": [
    "#### First sentence: "
   ]
  },
  {
   "cell_type": "code",
   "execution_count": 12,
   "metadata": {
    "collapsed": false
   },
   "outputs": [
    {
     "data": {
      "text/plain": [
       "TaggedDocument(words=['105847', '105875', '105893', '102824', '102813', '102771', '102722', '101426', '101501', '101506', '101557', '101873', '101893', '101951', '101954', '101983', '98713', '98700', '98687', '98599', '98590', '98554', '98548', '98540', '98282', '98292', '98296', '76471', '76429', '76413', '76339', '76348', '76232', '76252', '76057', '76049', '76085', '76032', '75527', '75574', '75572', '75567', '75645', '75635', '75631', '75666', '75673', '74855', '74852', '74846', '74833', '74828', '74817', '74729', '74722', '74723', '74741', '74697', '72782', '74690', '72785', '72798', '72796', '72805', '74667', '74664', '74669', '74670', '74657', '74679', '74678', '74681', '74682', '74703', '74698', '74700', '74705', '74718', '74719', '74721', '74734', '74733', '74732', '74811', '74808', '74812', '74813', '74801', '74800', '74799', '74800', '74799', '74875', '74873', '74872', '74877', '74882', '74878', '74864', '74895', '74892', '74891', '74910', '74911', '74915', '74916', '74919', '74920', '74921', '74922', '75264', '75267', '75271', '75272', '75318', '75316', '75297', '75310', '75308', '75309', '75388', '75390', '75406', '75393', '75405', '75404', '75422', '75423', '75420', '75426', '75431', '75432', '75435', '120491', '120490', '120488', '120489', '120488', '120484', '120485', '120476', '120478', '120459', '120462', '120446', '120445', '120443', '120364', '120365', '120364', '120365', '120353', '120372', '120373', '120330', '120328', '120322', '120327', '120322', '120321', '120660', '120663', '120662', '120665', '119973', '120666', '120678', '119961', '119958', '119957', '119914', '119913', '119910', '119909', '120730', '119909', '120745', '119897', '119894', '120745', '119893', '120746', '119555', '119549', '119537', '119538', '119536', '119539', '119533', '119529', '119528', '119526', '119323', '119324', '119328', '119306', '119349', '119348', '119351', '119352', '119356', '119236', '119232', '119233', '119245', '119227', '119226', '119181', '119182', '119151', '119138', '119143', '119131', '122533', '122535', '122540', '122543', '117747', '117743', '117742', '117741', '117736', '117734', '117530', '117541', '117537', '117550', '117626', '117622', '117625', '117598', '117597', '117584', '117587', '117262', '117245', '117242', '117241', '117190', '117194', '117195', '117201', '117124', '117122', '117134', '117107', '117102', '117091', '117083', '117081', '128682', '129366', '129373', '129376', '129377', '129394', '129393', '129421', '129412', '129466', '129413', '129486', '129472', '129475', '129596', '129597', '129590', '129566', '129565', '129560', '129769', '129768', '129851', '129848', '129849', '129801', '129805', '129808', '132335', '132333', '132327', '132324', '132133', '132137', '132140', '132166', '132169', '132177', '132183', '132180', '131839', '131836', '131826', '131830', '131807', '131794', '131715', '131714', '131699', '131695', '131694', '131684', '131685', '134564', '134560', '134576', '134577', '134590', '134720', '134717', '134665', '134673', '134675', '134989', '134980', '135034', '134955', '135129', '135128', '135139', '135157', '135165', '135164', '135171', '217072', '217057', '217060', '216870', '216871', '216879', '216901', '216596', '216595', '216606', '216585', '216631', '216639', '216509', '216503', '216501', '216479', '216478', '216427', '216424', '216422', '213659', '213671', '213676', '213679', '215033'], tags=['md_34904'])"
      ]
     },
     "execution_count": 12,
     "metadata": {},
     "output_type": "execute_result"
    }
   ],
   "source": [
    "sentences[1]"
   ]
  },
  {
   "cell_type": "markdown",
   "metadata": {},
   "source": [
    "#### Initialization of the model where alpha is set to a value and sentences are input"
   ]
  },
  {
   "cell_type": "code",
   "execution_count": 13,
   "metadata": {
    "collapsed": true
   },
   "outputs": [],
   "source": [
    "model = Doc2Vec(alpha=0.01)"
   ]
  },
  {
   "cell_type": "code",
   "execution_count": 14,
   "metadata": {
    "collapsed": false
   },
   "outputs": [],
   "source": [
    "model.build_vocab(sentences)"
   ]
  },
  {
   "cell_type": "markdown",
   "metadata": {},
   "source": [
    "#### Train  model: "
   ]
  },
  {
   "cell_type": "code",
   "execution_count": 15,
   "metadata": {
    "collapsed": false
   },
   "outputs": [],
   "source": [
    "for epoch in range(10):\n",
    "    model.train(sentences)\n",
    "    model.alpha -= 0.002\n",
    "    model.min_alpha = model.alpha"
   ]
  },
  {
   "cell_type": "markdown",
   "metadata": {},
   "source": [
    "#### After training, you can choose to save the model for future use"
   ]
  },
  {
   "cell_type": "code",
   "execution_count": 16,
   "metadata": {
    "collapsed": true
   },
   "outputs": [],
   "source": [
    "model.save('../data/trip_as_vec.model')"
   ]
  },
  {
   "cell_type": "markdown",
   "metadata": {},
   "source": [
    "#### Alternatively, you can skip the processes of initilization/training/saving model, but load a existing model instead"
   ]
  },
  {
   "cell_type": "code",
   "execution_count": 22,
   "metadata": {
    "collapsed": false
   },
   "outputs": [],
   "source": [
    "model = Doc2Vec.load('../data/trip_as_vec.model')"
   ]
  },
  {
   "cell_type": "markdown",
   "metadata": {},
   "source": [
    "#### Size of a document vector: "
   ]
  },
  {
   "cell_type": "code",
   "execution_count": 23,
   "metadata": {
    "collapsed": false
   },
   "outputs": [
    {
     "data": {
      "text/plain": [
       "(300,)"
      ]
     },
     "execution_count": 23,
     "metadata": {},
     "output_type": "execute_result"
    }
   ],
   "source": [
    "model.docvecs[0].shape"
   ]
  },
  {
   "cell_type": "markdown",
   "metadata": {},
   "source": [
    "#### Import \"matplotlib\" for plotting diagram: "
   ]
  },
  {
   "cell_type": "code",
   "execution_count": 24,
   "metadata": {
    "collapsed": false
   },
   "outputs": [],
   "source": [
    "%matplotlib inline\n",
    "from matplotlib import pyplot as plt"
   ]
  },
  {
   "cell_type": "markdown",
   "metadata": {},
   "source": [
    "#### Tag for second sentence: "
   ]
  },
  {
   "cell_type": "code",
   "execution_count": 25,
   "metadata": {
    "collapsed": false
   },
   "outputs": [
    {
     "ename": "AttributeError",
     "evalue": "'DocvecsArray' object has no attribute 'index2doctag'",
     "output_type": "error",
     "traceback": [
      "\u001b[1;31m---------------------------------------------------------------------------\u001b[0m",
      "\u001b[1;31mAttributeError\u001b[0m                            Traceback (most recent call last)",
      "\u001b[1;32m<ipython-input-25-a7b25b660dfb>\u001b[0m in \u001b[0;36m<module>\u001b[1;34m()\u001b[0m\n\u001b[1;32m----> 1\u001b[1;33m \u001b[0mt\u001b[0m \u001b[1;33m=\u001b[0m \u001b[0mmodel\u001b[0m\u001b[1;33m.\u001b[0m\u001b[0mdocvecs\u001b[0m\u001b[1;33m.\u001b[0m\u001b[0mindex2doctag\u001b[0m\u001b[1;33m[\u001b[0m\u001b[1;36m1\u001b[0m\u001b[1;33m]\u001b[0m\u001b[1;33m\u001b[0m\u001b[0m\n\u001b[0m\u001b[0;32m      2\u001b[0m \u001b[1;32mprint\u001b[0m\u001b[1;33m(\u001b[0m\u001b[0mt\u001b[0m\u001b[1;33m)\u001b[0m\u001b[1;33m\u001b[0m\u001b[0m\n",
      "\u001b[1;31mAttributeError\u001b[0m: 'DocvecsArray' object has no attribute 'index2doctag'"
     ]
    }
   ],
   "source": [
    "t = model.docvecs.index2doctag[1]\n",
    "print(t)"
   ]
  },
  {
   "cell_type": "markdown",
   "metadata": {},
   "source": [
    "#### Document vector with tag above:"
   ]
  },
  {
   "cell_type": "code",
   "execution_count": 26,
   "metadata": {
    "collapsed": false
   },
   "outputs": [
    {
     "ename": "NameError",
     "evalue": "name 't' is not defined",
     "output_type": "error",
     "traceback": [
      "\u001b[1;31m---------------------------------------------------------------------------\u001b[0m",
      "\u001b[1;31mNameError\u001b[0m                                 Traceback (most recent call last)",
      "\u001b[1;32m<ipython-input-26-e0c169788370>\u001b[0m in \u001b[0;36m<module>\u001b[1;34m()\u001b[0m\n\u001b[1;32m----> 1\u001b[1;33m \u001b[0mmodel\u001b[0m\u001b[1;33m.\u001b[0m\u001b[0mdocvecs\u001b[0m\u001b[1;33m.\u001b[0m\u001b[0mindexed_doctags\u001b[0m\u001b[1;33m(\u001b[0m\u001b[0mt\u001b[0m\u001b[1;33m)\u001b[0m\u001b[1;33m\u001b[0m\u001b[0m\n\u001b[0m",
      "\u001b[1;31mNameError\u001b[0m: name 't' is not defined"
     ]
    }
   ],
   "source": [
    "model.docvecs.indexed_doctags(t)"
   ]
  },
  {
   "cell_type": "markdown",
   "metadata": {},
   "source": [
    "#### Print all the information within one trajectory"
   ]
  },
  {
   "cell_type": "code",
   "execution_count": 27,
   "metadata": {
    "collapsed": false
   },
   "outputs": [
    {
     "name": "stdout",
     "output_type": "stream",
     "text": [
      "Original description md_27345\n",
      "               t    x    y    doc_id  hilbert_idx\n",
      "2950712  2800701  336  129  md_27345       121259\n",
      "2950713  2800702  338  129  md_27345       121255\n",
      "2950714  2800703  338  130  md_27345       121250\n",
      "2950715  2800704  338  128  md_27345       121254\n",
      "2950716  2800705  338  130  md_27345       121250\n",
      "2950717  2800706  338  129  md_27345       121255\n",
      "2950718  2800708  339  130  md_27345       121251\n",
      "2950719  2800709  340  131  md_27345       121247\n",
      "2950720  2800710  340  129  md_27345       121243\n",
      "2950721  2800711  340  130  md_27345       121244\n",
      "2950722  2800712  340  132  md_27345       121226\n",
      "2950725  2800713  340  133  md_27345       121225\n",
      "2950728  2800714  342  133  md_27345       121229\n",
      "2950730  2800715  342  132  md_27345       121228\n",
      "2950734  2800717  342  133  md_27345       121229\n",
      "2950738  2800719  342  134  md_27345       121218\n",
      "2950740  2800720  343  135  md_27345       121216\n",
      "2950743  2800721  343  136  md_27345       121301\n",
      "2950746  2800722  344  135  md_27345       121215\n",
      "2950748  2800723  344  136  md_27345       121130\n",
      "2950750  2800724  344  134  md_27345       121214\n",
      "2950752  2800725  344  135  md_27345       121215\n",
      "2950755  2800726  344  137  md_27345       121129\n",
      "2950758  2800728  345  137  md_27345       121128\n",
      "2950781  2800739  347  142  md_27345       121105\n",
      "2950813  2800749  351  146  md_27345       121073\n",
      "2950824  2800751  351  147  md_27345       121072\n",
      "2950829  2800752  352  147  md_27345       120591\n",
      "2950834  2800753  352  149  md_27345       120595\n",
      "2950840  2800754  353  149  md_27345       120594\n",
      "2950846  2800755  352  149  md_27345       120595\n",
      "2950861  2800759  353  150  md_27345       120599\n",
      "2950869  2800761  353  151  md_27345       120598\n",
      "2950873  2800762  353  152  md_27345       120809\n",
      "2950878  2800763  353  153  md_27345       120808\n",
      "2950886  2800765  354  153  md_27345       120807\n",
      "2950897  2800767  354  154  md_27345       120802\n",
      "2950902  2800768  354  155  md_27345       120801\n",
      "2950910  2800770  355  155  md_27345       120800\n",
      "2950915  2800771  355  156  md_27345       120821\n",
      "2950922  2800773  355  157  md_27345       120822\n"
     ]
    }
   ],
   "source": [
    "tag = 'md_27345'\n",
    "print('Original description {:s}'.format(tag))\n",
    "idx = int(tag.split('_')[-1])\n",
    "tmp = df.ix[dfgs.groups['md_27345']]\n",
    "print(tmp)"
   ]
  },
  {
   "cell_type": "markdown",
   "metadata": {},
   "source": [
    "#### Define a method to plot a single trip"
   ]
  },
  {
   "cell_type": "code",
   "execution_count": 28,
   "metadata": {
    "collapsed": false
   },
   "outputs": [
    {
     "data": {
      "text/plain": [
       "<matplotlib.figure.Figure at 0x7ff13e7adb50>"
      ]
     },
     "metadata": {},
     "output_type": "display_data"
    }
   ],
   "source": [
    "plt.figure(figsize=(10, 8))\n",
    "def plot_trip(doc_id, lw=None, c=None, s=1):\n",
    "    s = str(\"{0:.2f}\".format(s * 100)) + \"%\"\n",
    "    idx = dfgs.groups[doc_id]\n",
    "    tmp = df.ix[idx]\n",
    "    plt.plot(tmp['x'], 360 - tmp['y'], color=c, linewidth=lw, label=s)\n",
    "    "
   ]
  },
  {
   "cell_type": "markdown",
   "metadata": {},
   "source": [
    "#### Read in the background image"
   ]
  },
  {
   "cell_type": "code",
   "execution_count": 29,
   "metadata": {
    "collapsed": true
   },
   "outputs": [],
   "source": [
    "img = plt.imread('../data/parkinglot.png')\n",
    "img_gry = img[:, :, 0]"
   ]
  },
  {
   "cell_type": "markdown",
   "metadata": {},
   "source": [
    "#### Check the similarity of three trajectories base on one query trajectory"
   ]
  },
  {
   "cell_type": "code",
   "execution_count": 30,
   "metadata": {
    "collapsed": false
   },
   "outputs": [
    {
     "ename": "AttributeError",
     "evalue": "'DocvecsArray' object has no attribute 'index2doctag'",
     "output_type": "error",
     "traceback": [
      "\u001b[1;31m---------------------------------------------------------------------------\u001b[0m",
      "\u001b[1;31mAttributeError\u001b[0m                            Traceback (most recent call last)",
      "\u001b[1;32m<ipython-input-30-627756196195>\u001b[0m in \u001b[0;36m<module>\u001b[1;34m()\u001b[0m\n\u001b[1;32m----> 1\u001b[1;33m \u001b[0mtag1\u001b[0m \u001b[1;33m=\u001b[0m  \u001b[0mmodel\u001b[0m\u001b[1;33m.\u001b[0m\u001b[0mdocvecs\u001b[0m\u001b[1;33m.\u001b[0m\u001b[0mindex2doctag\u001b[0m\u001b[1;33m[\u001b[0m\u001b[1;36m100\u001b[0m\u001b[1;33m]\u001b[0m\u001b[1;33m\u001b[0m\u001b[0m\n\u001b[0m\u001b[0;32m      2\u001b[0m \u001b[0mtag2\u001b[0m \u001b[1;33m=\u001b[0m  \u001b[0mmodel\u001b[0m\u001b[1;33m.\u001b[0m\u001b[0mdocvecs\u001b[0m\u001b[1;33m.\u001b[0m\u001b[0mindex2doctag\u001b[0m\u001b[1;33m[\u001b[0m\u001b[1;36m35736\u001b[0m\u001b[1;33m]\u001b[0m\u001b[1;33m\u001b[0m\u001b[0m\n\u001b[0;32m      3\u001b[0m \u001b[0mtag3\u001b[0m \u001b[1;33m=\u001b[0m  \u001b[0mmodel\u001b[0m\u001b[1;33m.\u001b[0m\u001b[0mdocvecs\u001b[0m\u001b[1;33m.\u001b[0m\u001b[0mindex2doctag\u001b[0m\u001b[1;33m[\u001b[0m\u001b[1;36m10000\u001b[0m\u001b[1;33m]\u001b[0m\u001b[1;33m\u001b[0m\u001b[0m\n\u001b[0;32m      4\u001b[0m \u001b[0mtag4\u001b[0m \u001b[1;33m=\u001b[0m  \u001b[0mmodel\u001b[0m\u001b[1;33m.\u001b[0m\u001b[0mdocvecs\u001b[0m\u001b[1;33m.\u001b[0m\u001b[0mindex2doctag\u001b[0m\u001b[1;33m[\u001b[0m\u001b[1;36m1000\u001b[0m\u001b[1;33m]\u001b[0m\u001b[1;33m\u001b[0m\u001b[0m\n\u001b[0;32m      5\u001b[0m \u001b[0mplt\u001b[0m\u001b[1;33m.\u001b[0m\u001b[0mfigure\u001b[0m\u001b[1;33m(\u001b[0m\u001b[0mfigsize\u001b[0m\u001b[1;33m=\u001b[0m\u001b[1;33m(\u001b[0m\u001b[1;36m10\u001b[0m\u001b[1;33m,\u001b[0m \u001b[1;36m8\u001b[0m\u001b[1;33m)\u001b[0m\u001b[1;33m)\u001b[0m\u001b[1;33m\u001b[0m\u001b[0m\n",
      "\u001b[1;31mAttributeError\u001b[0m: 'DocvecsArray' object has no attribute 'index2doctag'"
     ]
    }
   ],
   "source": [
    "tag1 =  model.docvecs.index2doctag[100]\n",
    "tag2 =  model.docvecs.index2doctag[35736]\n",
    "tag3 =  model.docvecs.index2doctag[10000]\n",
    "tag4 =  model.docvecs.index2doctag[1000]\n",
    "plt.figure(figsize=(10, 8))\n",
    "plt.imshow(img_gry[::-1, :], extent=(0, 480, 0, 360), cmap='gray', origin=\"lower\")\n",
    "plot_trip(tag1, lw=4, c='c')\n",
    "plot_trip(tag2, lw=1, s=model.docvecs.similarity(tag1, tag2))\n",
    "plot_trip(tag3, lw=1, s=model.docvecs.similarity(tag1, tag3))\n",
    "plot_trip(tag4, lw=1, s=model.docvecs.similarity(tag1, tag4))\n",
    "plt.legend()"
   ]
  },
  {
   "cell_type": "markdown",
   "metadata": {},
   "source": [
    "#### Find the most similar trips based on a query trip"
   ]
  },
  {
   "cell_type": "code",
   "execution_count": 31,
   "metadata": {
    "collapsed": false
   },
   "outputs": [
    {
     "ename": "AttributeError",
     "evalue": "'DocvecsArray' object has no attribute 'index2doctag'",
     "output_type": "error",
     "traceback": [
      "\u001b[1;31m---------------------------------------------------------------------------\u001b[0m",
      "\u001b[1;31mAttributeError\u001b[0m                            Traceback (most recent call last)",
      "\u001b[1;32m<ipython-input-31-9275455dbb0c>\u001b[0m in \u001b[0;36m<module>\u001b[1;34m()\u001b[0m\n\u001b[1;32m----> 1\u001b[1;33m \u001b[0mtag\u001b[0m \u001b[1;33m=\u001b[0m  \u001b[0mmodel\u001b[0m\u001b[1;33m.\u001b[0m\u001b[0mdocvecs\u001b[0m\u001b[1;33m.\u001b[0m\u001b[0mindex2doctag\u001b[0m\u001b[1;33m[\u001b[0m\u001b[1;36m100\u001b[0m\u001b[1;33m]\u001b[0m\u001b[1;33m\u001b[0m\u001b[0m\n\u001b[0m\u001b[0;32m      2\u001b[0m \u001b[0mtag\u001b[0m \u001b[1;33m=\u001b[0m \u001b[1;34m\"md_33358\"\u001b[0m\u001b[1;33m\u001b[0m\u001b[0m\n\u001b[0;32m      3\u001b[0m \u001b[0mplt\u001b[0m\u001b[1;33m.\u001b[0m\u001b[0mfigure\u001b[0m\u001b[1;33m(\u001b[0m\u001b[0mfigsize\u001b[0m\u001b[1;33m=\u001b[0m\u001b[1;33m(\u001b[0m\u001b[1;36m10\u001b[0m\u001b[1;33m,\u001b[0m \u001b[1;36m8\u001b[0m\u001b[1;33m)\u001b[0m\u001b[1;33m)\u001b[0m\u001b[1;33m\u001b[0m\u001b[0m\n\u001b[0;32m      4\u001b[0m \u001b[0mplt\u001b[0m\u001b[1;33m.\u001b[0m\u001b[0mimshow\u001b[0m\u001b[1;33m(\u001b[0m\u001b[0mimg_gry\u001b[0m\u001b[1;33m[\u001b[0m\u001b[1;33m:\u001b[0m\u001b[1;33m:\u001b[0m\u001b[1;33m-\u001b[0m\u001b[1;36m1\u001b[0m\u001b[1;33m,\u001b[0m \u001b[1;33m:\u001b[0m\u001b[1;33m]\u001b[0m\u001b[1;33m,\u001b[0m \u001b[0mextent\u001b[0m\u001b[1;33m=\u001b[0m\u001b[1;33m(\u001b[0m\u001b[1;36m0\u001b[0m\u001b[1;33m,\u001b[0m \u001b[1;36m480\u001b[0m\u001b[1;33m,\u001b[0m \u001b[1;36m0\u001b[0m\u001b[1;33m,\u001b[0m \u001b[1;36m360\u001b[0m\u001b[1;33m)\u001b[0m\u001b[1;33m,\u001b[0m \u001b[0mcmap\u001b[0m\u001b[1;33m=\u001b[0m\u001b[1;34m'gray'\u001b[0m\u001b[1;33m,\u001b[0m \u001b[0morigin\u001b[0m\u001b[1;33m=\u001b[0m\u001b[1;34m\"lower\"\u001b[0m\u001b[1;33m)\u001b[0m\u001b[1;33m\u001b[0m\u001b[0m\n\u001b[0;32m      5\u001b[0m \u001b[0mplot_trip\u001b[0m\u001b[1;33m(\u001b[0m\u001b[0mtag\u001b[0m\u001b[1;33m,\u001b[0m \u001b[0mlw\u001b[0m\u001b[1;33m=\u001b[0m\u001b[1;36m4\u001b[0m\u001b[1;33m,\u001b[0m \u001b[0mc\u001b[0m\u001b[1;33m=\u001b[0m\u001b[1;34m'c'\u001b[0m\u001b[1;33m)\u001b[0m\u001b[1;33m\u001b[0m\u001b[0m\n",
      "\u001b[1;31mAttributeError\u001b[0m: 'DocvecsArray' object has no attribute 'index2doctag'"
     ]
    }
   ],
   "source": [
    "tag =  model.docvecs.index2doctag[100]\n",
    "tag = \"md_33358\"\n",
    "plt.figure(figsize=(10, 8))\n",
    "plt.imshow(img_gry[::-1, :], extent=(0, 480, 0, 360), cmap='gray', origin=\"lower\")\n",
    "plot_trip(tag, lw=4, c='c')\n",
    "print('='*100)\n",
    "count = 0\n",
    "for t, s in model.docvecs.most_similar(tag):\n",
    "    if count < 8:\n",
    "        plot_trip(t, lw=1, s=s)\n",
    "        plt.legend()\n",
    "    count = count + 1"
   ]
  },
  {
   "cell_type": "code",
   "execution_count": null,
   "metadata": {
    "collapsed": true
   },
   "outputs": [],
   "source": []
  },
  {
   "cell_type": "markdown",
   "metadata": {},
   "source": [
    "## THE DEMO FINISHES HERE!"
   ]
  }
 ],
 "metadata": {
  "kernelspec": {
   "display_name": "Python 2",
   "language": "python",
   "name": "python2"
  },
  "language_info": {
   "codemirror_mode": {
    "name": "ipython",
    "version": 2
   },
   "file_extension": ".py",
   "mimetype": "text/x-python",
   "name": "python",
   "nbconvert_exporter": "python",
   "pygments_lexer": "ipython2",
   "version": "2.7.11"
  }
 },
 "nbformat": 4,
 "nbformat_minor": 0
}
