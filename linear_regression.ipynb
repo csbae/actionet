{
  "nbformat": 4,
  "nbformat_minor": 0,
  "metadata": {
    "colab": {
      "name": "linear_regression.ipynb",
      "provenance": [],
      "collapsed_sections": [],
      "authorship_tag": "ABX9TyP3QQOyzkr70U5DrTVWRyHz",
      "include_colab_link": true
    },
    "kernelspec": {
      "name": "python3",
      "display_name": "Python 3"
    },
    "accelerator": "GPU"
  },
  "cells": [
    {
      "cell_type": "markdown",
      "metadata": {
        "id": "view-in-github",
        "colab_type": "text"
      },
      "source": [
        "<a href=\"https://colab.research.google.com/github/csbae/actionet/blob/master/linear_regression.ipynb\" target=\"_parent\"><img src=\"https://colab.research.google.com/assets/colab-badge.svg\" alt=\"Open In Colab\"/></a>"
      ]
    },
    {
      "cell_type": "code",
      "metadata": {
        "id": "Y6C7d83EkTga",
        "colab_type": "code",
        "colab": {}
      },
      "source": [
        "import tensorflow as tf\n",
        "import matplotlib.pyplot as plt"
      ],
      "execution_count": 0,
      "outputs": []
    },
    {
      "cell_type": "code",
      "metadata": {
        "id": "dFcUx94qlmz2",
        "colab_type": "code",
        "outputId": "9e321031-39b8-4d12-d5cd-b63106a4eef3",
        "colab": {
          "base_uri": "https://localhost:8080/",
          "height": 34
        }
      },
      "source": [
        "print(tf.__version__)"
      ],
      "execution_count": 0,
      "outputs": [
        {
          "output_type": "stream",
          "text": [
            "1.15.0\n"
          ],
          "name": "stdout"
        }
      ]
    },
    {
      "cell_type": "code",
      "metadata": {
        "id": "LH6pJJgMqWCx",
        "colab_type": "code",
        "colab": {}
      },
      "source": [
        "learning_rate = 0.01\n",
        "num_epochs = 1000\n",
        "step_display = 50"
      ],
      "execution_count": 0,
      "outputs": []
    },
    {
      "cell_type": "code",
      "metadata": {
        "id": "W42mC9lTsvDa",
        "colab_type": "code",
        "colab": {}
      },
      "source": [
        "x = [2.7, 4.8, 9.3, 13.4, 24.8, 31.3, 48.5, 53.0, 68.1, 74.2, 88.6, 94.5]\n",
        "y = [7.0, 28.8, 22.8, 67.1, 48.8, 100.2, 140.0, 190.2, 215.2, 285.6, 260.3, 251.1]"
      ],
      "execution_count": 0,
      "outputs": []
    },
    {
      "cell_type": "code",
      "metadata": {
        "id": "kGOkG0gjtLn1",
        "colab_type": "code",
        "outputId": "1154020d-dac9-4984-f8bf-a4f1b2432ab5",
        "colab": {
          "base_uri": "https://localhost:8080/",
          "height": 34
        }
      },
      "source": [
        "assert len(x) == len(y)\n",
        "len(x)"
      ],
      "execution_count": 0,
      "outputs": [
        {
          "output_type": "execute_result",
          "data": {
            "text/plain": [
              "12"
            ]
          },
          "metadata": {
            "tags": []
          },
          "execution_count": 50
        }
      ]
    },
    {
      "cell_type": "code",
      "metadata": {
        "id": "F1MPoFFztehc",
        "colab_type": "code",
        "colab": {}
      },
      "source": [
        "weight = tf.Variable(tf.random_uniform([1], -1.0, 1.0), name='weight')\n",
        "bias = tf.Variable(tf.random_uniform([1], -1.0, 1.0), name='bias')"
      ],
      "execution_count": 0,
      "outputs": []
    },
    {
      "cell_type": "code",
      "metadata": {
        "id": "Hp97ZLBjuMA8",
        "colab_type": "code",
        "colab": {}
      },
      "source": [
        "x_true = tf.placeholder(dtype=tf.float32, name='x_true')\n",
        "y_true = tf.placeholder(dtype=tf.float32, name='y_true')"
      ],
      "execution_count": 0,
      "outputs": []
    },
    {
      "cell_type": "code",
      "metadata": {
        "id": "D-RDAfAUuhKj",
        "colab_type": "code",
        "colab": {}
      },
      "source": [
        "y_pred = tf.add(tf.multiply(weight, x_true), bias)"
      ],
      "execution_count": 0,
      "outputs": []
    },
    {
      "cell_type": "code",
      "metadata": {
        "id": "XiY-fw2vu01H",
        "colab_type": "code",
        "colab": {}
      },
      "source": [
        "cost = tf.reduce_mean(tf.square(y_pred - y_true))"
      ],
      "execution_count": 0,
      "outputs": []
    },
    {
      "cell_type": "code",
      "metadata": {
        "id": "ziK0yPFIvWeO",
        "colab_type": "code",
        "colab": {}
      },
      "source": [
        "optimizer = tf.train.AdamOptimizer(learning_rate).minimize(cost)"
      ],
      "execution_count": 0,
      "outputs": []
    },
    {
      "cell_type": "code",
      "metadata": {
        "id": "wQYAe-YPweFz",
        "colab_type": "code",
        "colab": {}
      },
      "source": [
        "init = tf.global_variables_initializer()\n",
        "sess = tf.Session()\n",
        "sess.run(init)"
      ],
      "execution_count": 0,
      "outputs": []
    },
    {
      "cell_type": "code",
      "metadata": {
        "id": "w5Mq6hHPw1AM",
        "colab_type": "code",
        "outputId": "bb562cb8-9370-4bca-db30-ddbd1cbb0dda",
        "colab": {
          "base_uri": "https://localhost:8080/",
          "height": 384
        }
      },
      "source": [
        "for epoch in range(num_epochs):\n",
        "  _, c = sess.run([optimizer, cost],feed_dict={x_true: x, y_true: y})\n",
        "  if(epoch+1) % step_display == 0:\n",
        "    #print(\"Epoch: \", epoch+1, \"cost: \", c, \"weight: \", sess.run(weight), \"bias: \", sess.run(bias))\n",
        "    print(\"Epoch: {:04d}, Cost: {:06.04f}, Weight: {:02.5f}, Bias: {:02.5f}\".format(epoch+1, c, sess.run(weight)[0], sess.run(bias)[0]))\n",
        "    \n",
        "print(\"Finished!!\")"
      ],
      "execution_count": 0,
      "outputs": [
        {
          "output_type": "stream",
          "text": [
            "Epoch: 0050, Cost: 9014.8555, Weight: 1.37529, Bias: 0.44390\n",
            "Epoch: 0100, Cost: 5320.3848, Weight: 1.80082, Bias: 0.87103\n",
            "Epoch: 0150, Cost: 3051.8564, Weight: 2.15551, Bias: 1.22928\n",
            "Epoch: 0200, Cost: 1772.9108, Weight: 2.43818, Bias: 1.51792\n",
            "Epoch: 0250, Cost: 1117.2012, Weight: 2.65227, Bias: 1.74071\n",
            "Epoch: 0300, Cost: 813.7048, Weight: 2.80565, Bias: 1.90563\n",
            "Epoch: 0350, Cost: 687.4140, Weight: 2.90931, Bias: 2.02359\n",
            "Epoch: 0400, Cost: 640.2327, Weight: 2.97534, Bias: 2.10639\n",
            "Epoch: 0450, Cost: 624.3879, Weight: 3.01495, Bias: 2.16494\n",
            "Epoch: 0500, Cost: 619.5768, Weight: 3.03732, Bias: 2.20811\n",
            "Epoch: 0550, Cost: 618.2241, Weight: 3.04916, Bias: 2.24239\n",
            "Epoch: 0600, Cost: 617.8372, Weight: 3.05498, Bias: 2.27210\n",
            "Epoch: 0650, Cost: 617.6891, Weight: 3.05757, Bias: 2.29991\n",
            "Epoch: 0700, Cost: 617.5919, Weight: 3.05851, Bias: 2.32734\n",
            "Epoch: 0750, Cost: 617.5023, Weight: 3.05867, Bias: 2.35520\n",
            "Epoch: 0800, Cost: 617.4112, Weight: 3.05846, Bias: 2.38387\n",
            "Epoch: 0850, Cost: 617.3170, Weight: 3.05810, Bias: 2.41353\n",
            "Epoch: 0900, Cost: 617.2205, Weight: 3.05766, Bias: 2.44425\n",
            "Epoch: 0950, Cost: 617.1213, Weight: 3.05719, Bias: 2.47604\n",
            "Epoch: 1000, Cost: 617.0192, Weight: 3.05669, Bias: 2.50889\n",
            "Finished!!\n"
          ],
          "name": "stdout"
        }
      ]
    },
    {
      "cell_type": "code",
      "metadata": {
        "id": "xax6GbRDyV37",
        "colab_type": "code",
        "outputId": "b213e6f9-819f-4a68-c6bf-ba3eabe06c24",
        "colab": {
          "base_uri": "https://localhost:8080/",
          "height": 69
        }
      },
      "source": [
        "training_cost = sess.run(cost, feed_dict={x_true: x, y_true: y})\n",
        "print(\"Final cost: \", c)\n",
        "print(\"Final weight: \", sess.run(weight))\n",
        "print(\"Final bias: \", sess.run(bias))"
      ],
      "execution_count": 0,
      "outputs": [
        {
          "output_type": "stream",
          "text": [
            "Final cost:  617.0192\n",
            "Final weight:  [3.056694]\n",
            "Final bias:  [2.5088944]\n"
          ],
          "name": "stdout"
        }
      ]
    },
    {
      "cell_type": "code",
      "metadata": {
        "id": "ySn2XNyi0hIf",
        "colab_type": "code",
        "outputId": "9588fe47-a85e-4ec2-9499-c1c76a10fab3",
        "colab": {
          "base_uri": "https://localhost:8080/",
          "height": 265
        }
      },
      "source": [
        "plt.plot(x, y, 'ro', label='Original data')\n",
        "plt.plot(x, sess.run(weight) * x + sess.run(bias), label='Optimized line')\n",
        "plt.legend()\n",
        "plt.show()"
      ],
      "execution_count": 0,
      "outputs": [
        {
          "output_type": "display_data",
          "data": {
            "image/png": "[encoded data removed]",
            "text/plain": [
              "<Figure size 432x288 with 1 Axes>"
            ]
          },
          "metadata": {
            "tags": []
          }
        }
      ]
    },
    {
      "cell_type": "code",
      "metadata": {
        "id": "1dqKm3dW1Arh",
        "colab_type": "code",
        "colab": {}
      },
      "source": [
        "sess.close()"
      ],
      "execution_count": 0,
      "outputs": []
    }
  ]
}